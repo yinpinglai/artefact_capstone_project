{
 "cells": [
  {
   "attachments": {},
   "cell_type": "markdown",
   "metadata": {},
   "source": [
    "# Extract data from the StackOverflow Survey 2022"
   ]
  },
  {
   "attachments": {},
   "cell_type": "markdown",
   "metadata": {},
   "source": [
    "## Load the downloaded HTML file"
   ]
  },
  {
   "cell_type": "code",
   "execution_count": 2,
   "metadata": {},
   "outputs": [
    {
     "name": "stdout",
     "output_type": "stream",
     "text": [
      "['\\n', <meta charset=\"utf-8\"/>, '\\n', <title>Stack Overflow Developer Survey 2022</title>, '\\n', <script src=\"https://cdn.cookielaw.org/consent/d06435e0-17fb-4659-9a14-1930a6e0be80/OtAutoBlock.js\"></script>, '\\n', <script charset=\"utf-8\" data-domain-script=\"d06435e0-17fb-4659-9a14-1930a6e0be80\" src=\"https://cdn.cookielaw.org/scripttemplates/otSDKStub.js\"></script>, '\\n', <script>function OptanonWrapper(){}</script>, '\\n', <meta content=\"width=device-width, height=device-height, initial-scale=1.0, minimum-scale=1.0\" name=\"viewport\"/>, '\\n', <meta content=\"In May 2022 over 70,000 developers told us how they learn and level up, which tools they’re using, and what they want.\" name=\"description\"/>, '\\n', <meta content=\"summary_large_image\" name=\"twitter:card\"/>, '\\n', <meta content=\"@stackoverflow\" name=\"twitter:site\"/>, '\\n', <meta content=\"Stack Overflow Developer Survey 2022\" name=\"twitter:title\"/>, '\\n', <meta content=\"In May 2022 over 70,000 developers told us how they learn and level up, which tools they’re using, and what they want.\" name=\"twitter:description\"/>, '\\n', <meta content=\"@stackoverflow\" name=\"twitter:creator\"/>, '\\n', <meta content=\"/2022/up_/src/img/dev-survey-2022.png\" name=\"twitter:image\"/>, '\\n', <meta content=\"Stack Overflow Developer Survey 2022\" property=\"og:title\"/>, '\\n', <meta content=\"article\" property=\"og:type\"/>, '\\n', <meta content=\"https://survey.stackoverflow.co/2022/?utm_source=social-share&amp;utm_medium=social&amp;utm_campaign=dev-survey-2022\" property=\"og:url\"/>, '\\n', <meta content=\"/2022/up_/src/img/dev-survey-2022.png\" property=\"og:image\"/>, '\\n', <meta content=\"In May 2022 over 70,000 developers told us how they learn and level up, which tools they’re using, and what they want.\" property=\"og:description\"/>, '\\n', <meta content=\"Stack Overflow\" property=\"og:site_name\"/>, '\\n', <link href=\"https://survey.stackoverflow.co/2022\" rel=\"canonical\"/>, '\\n', <link href=\"/2022/favicon.ca238093.ico\" rel=\"icon shortcut\"/>, '\\n', <script>!function(e,a,t,n,o,g,c){e.GoogleAnalyticsObject=o,e.ga=e.ga||function(){(e.ga.q=e.ga.q||[]).push(arguments)},e.ga.l=1*new Date,g=a.createElement(t),c=a.getElementsByTagName(t)[0],g.async=1,g.src=\"https://www.google-analytics.com/analytics.js\",c.parentNode.insertBefore(g,c)}(window,document,\"script\",0,\"ga\"),ga(\"create\",\"UA-108242619-9\",\"auto\",{allowLinker:!0}),ga(\"require\",\"linker\"),ga(\"linker:autoLink\",[\"stackoverflow.blog\",\"stackoverflow.com\"]),ga(\"send\",\"pageview\");</script>, '\\n', <script async=\"\" src=\"https://cdn.bizible.com/scripts/bizible.js\"></script>, '\\n', <link crossorigin=\"\" href=\"https://fonts.gstatic.com\" rel=\"preconnect\"/>, '\\n', <style>@font-face{font-family:Roboto Slab;font-style:normal;font-weight:700;font-display:swap;src:url(https://fonts.gstatic.com/s/robotoslab/v13/BngbUXZYTXPIvIBgJJSb6s3BzlRRfKOFbvjoa4OmYWRlV9Su1caiTVo.woff)format(\"woff\");unicode-range:U+100-24F,U+259,U+1E??,U+2020,U+20A0-20AB,U+20AD-20CF,U+2113,U+2C60-2C7F,U+A720-A7FF}@font-face{font-family:Roboto Slab;font-style:normal;font-weight:700;font-display:swap;src:url(https://fonts.gstatic.com/s/robotoslab/v13/BngbUXZYTXPIvIBgJJSb6s3BzlRRfKOFbvjoa4Omb2RlV9Su1cai.woff)format(\"woff\");unicode-range:U+??,U+131,U+152-153,U+2BB-2BC,U+2C6,U+2DA,U+2DC,U+2000-206F,U+2074,U+20AC,U+2122,U+2191,U+2193,U+2212,U+2215,U+FEFF,U+FFFD}@font-face{font-family:Source Sans Pro;font-style:italic;font-weight:400;font-display:swap;src:url(https://fonts.gstatic.com/s/sourcesanspro/v14/6xK1dSBYKcSV-LCoeQqfX1RYOo3qPZ7psDJB9cme_xc.woff2)format(\"woff2\");unicode-range:U+100-24F,U+259,U+1E??,U+2020,U+20A0-20AB,U+20AD-20CF,U+2113,U+2C60-2C7F,U+A720-A7FF}@font-face{font-family:Source Sans Pro;font-style:italic;font-weight:400;font-display:swap;src:url(https://fonts.gstatic.com/s/sourcesanspro/v14/6xK1dSBYKcSV-LCoeQqfX1RYOo3qPZ7nsDJB9cme.woff2)format(\"woff2\");unicode-range:U+??,U+131,U+152-153,U+2BB-2BC,U+2C6,U+2DA,U+2DC,U+2000-206F,U+2074,U+20AC,U+2122,U+2191,U+2193,U+2212,U+2215,U+FEFF,U+FFFD}@font-face{font-family:Source Sans Pro;font-style:italic;font-weight:600;font-display:swap;src:url(https://fonts.gstatic.com/s/sourcesanspro/v14/6xKwdSBYKcSV-LCoeQqfX1RYOo3qPZY4lCdi18S0xR41YDw.woff2)format(\"woff2\");unicode-range:U+100-24F,U+259,U+1E??,U+2020,U+20A0-20AB,U+20AD-20CF,U+2113,U+2C60-2C7F,U+A720-A7FF}@font-face{font-family:Source Sans Pro;font-style:italic;font-weight:600;font-display:swap;src:url(https://fonts.gstatic.com/s/sourcesanspro/v14/6xKwdSBYKcSV-LCoeQqfX1RYOo3qPZY4lCds18S0xR41.woff2)format(\"woff2\");unicode-range:U+??,U+131,U+152-153,U+2BB-2BC,U+2C6,U+2DA,U+2DC,U+2000-206F,U+2074,U+20AC,U+2122,U+2191,U+2193,U+2212,U+2215,U+FEFF,U+FFFD}@font-face{font-family:Source Sans Pro;font-style:normal;font-weight:400;font-display:swap;src:url(https://fonts.gstatic.com/s/sourcesanspro/v14/6xK3dSBYKcSV-LCoeQqfX1RYOo3qNq7lujVj9_mf.woff2)format(\"woff2\");unicode-range:U+100-24F,U+259,U+1E??,U+2020,U+20A0-20AB,U+20AD-20CF,U+2113,U+2C60-2C7F,U+A720-A7FF}@font-face{font-family:Source Sans Pro;font-style:normal;font-weight:400;font-display:swap;src:url(https://fonts.gstatic.com/s/sourcesanspro/v14/6xK3dSBYKcSV-LCoeQqfX1RYOo3qOK7lujVj9w.woff2)format(\"woff2\");unicode-range:U+??,U+131,U+152-153,U+2BB-2BC,U+2C6,U+2DA,U+2DC,U+2000-206F,U+2074,U+20AC,U+2122,U+2191,U+2193,U+2212,U+2215,U+FEFF,U+FFFD}@font-face{font-family:Source Sans Pro;font-style:normal;font-weight:600;font-display:swap;src:url(https://fonts.gstatic.com/s/sourcesanspro/v14/6xKydSBYKcSV-LCoeQqfX1RYOo3i54rwmRdu3cOWxy40.woff2)format(\"woff2\");unicode-range:U+100-24F,U+259,U+1E??,U+2020,U+20A0-20AB,U+20AD-20CF,U+2113,U+2C60-2C7F,U+A720-A7FF}@font-face{font-family:Source Sans Pro;font-style:normal;font-weight:600;font-display:swap;src:url(https://fonts.gstatic.com/s/sourcesanspro/v14/6xKydSBYKcSV-LCoeQqfX1RYOo3i54rwlxdu3cOWxw.woff2)format(\"woff2\");unicode-range:U+??,U+131,U+152-153,U+2BB-2BC,U+2C6,U+2DA,U+2DC,U+2000-206F,U+2074,U+20AC,U+2122,U+2191,U+2193,U+2212,U+2215,U+FEFF,U+FFFD}</style>, '\\n', <link href=\"/2022/index.acb7625e.css\" rel=\"stylesheet\"/>, '\\n', <link href=\"/2022/index.ff8273e2.css\" rel=\"stylesheet\"/>, '\\n']\n"
     ]
    }
   ],
   "source": [
    "from bs4 import BeautifulSoup\n",
    "\n",
    "with open('./data/Stack Overflow Developer Survey 2022.html') as fp:\n",
    "    soup = BeautifulSoup(fp, 'html.parser')\n",
    "\n",
    "print(soup.head.contents)\n"
   ]
  },
  {
   "attachments": {},
   "cell_type": "markdown",
   "metadata": {},
   "source": [
    "## Extract programming, scripting, and markup languages"
   ]
  },
  {
   "cell_type": "code",
   "execution_count": 3,
   "metadata": {},
   "outputs": [
    {
     "name": "stdout",
     "output_type": "stream",
     "text": [
      "['JavaScript', 'HTML/CSS', 'SQL', 'Python', 'TypeScript', 'Java', 'Bash/Shell', 'C#', 'C++', 'PHP', 'C', 'PowerShell', 'Go', 'Rust', 'Kotlin', 'Dart', 'Ruby', 'Assembly', 'Swift', 'R', 'VBA', 'MATLAB', 'Lua', 'Groovy', 'Delphi', 'Scala', 'Objective-C', 'Perl', 'Haskell', 'Elixir', 'Julia', 'Clojure', 'Solidity', 'LISP', 'F#', 'Fortran', 'Erlang', 'APL', 'COBOL', 'SAS', 'OCaml', 'Crystal']\n"
     ]
    }
   ],
   "source": [
    "programming_scripting_markup_languages = []\n",
    "\n",
    "programming_languages_table = soup.find('table', id='languageepiif')\n",
    "# print(programming_languages_table)\n",
    "\n",
    "programming_languages_labels = programming_languages_table.find_all('td', class_='label')\n",
    "# print(programming_languages_labels)\n",
    "\n",
    "for programming_languages_label in programming_languages_labels:\n",
    "    programming_scripting_markup_languages.append(programming_languages_label.contents[0])\n",
    "\n",
    "print(programming_scripting_markup_languages)"
   ]
  },
  {
   "attachments": {},
   "cell_type": "markdown",
   "metadata": {},
   "source": [
    "## Extract databases"
   ]
  },
  {
   "cell_type": "code",
   "execution_count": 4,
   "metadata": {},
   "outputs": [
    {
     "name": "stdout",
     "output_type": "stream",
     "text": [
      "['MySQL', 'PostgreSQL', 'SQLite', 'MongoDB', 'Microsoft SQL Server', 'Redis', 'MariaDB', 'Elasticsearch', 'Oracle', 'Firebase Realtime Database', 'DynamoDB', 'Cloud Firestore', 'Cassandra', 'Neo4j', 'IBM DB2', 'Couchbase', 'CouchDB']\n"
     ]
    }
   ],
   "source": [
    "databases = []\n",
    "\n",
    "databases_table = soup.find('table', id='databaseyuhmf')\n",
    "# print(databases_table)\n",
    "\n",
    "databases_labels = databases_table.find_all('td', class_='label')\n",
    "# print(databases_labels)\n",
    "\n",
    "for databases_label in databases_labels:\n",
    "    databases.append(databases_label.contents[0])\n",
    "\n",
    "print(databases)"
   ]
  },
  {
   "attachments": {},
   "cell_type": "markdown",
   "metadata": {},
   "source": [
    "## Extract cloud platforms"
   ]
  },
  {
   "cell_type": "code",
   "execution_count": 5,
   "metadata": {},
   "outputs": [
    {
     "name": "stdout",
     "output_type": "stream",
     "text": [
      "['AWS', 'Microsoft Azure', 'Google Cloud', 'Firebase', 'Heroku', 'DigitalOcean', 'VMware', 'Managed Hosting', 'Linode', 'OVH', 'Oracle Cloud Infrastructure', 'OpenStack', 'IBM Cloud or Watson', 'Colocation']\n"
     ]
    }
   ],
   "source": [
    "cloud_platforms = []\n",
    "\n",
    "cloud_platforms_table = soup.find('table', id='platformievhy')\n",
    "# print(cloud_platforms_table)\n",
    "\n",
    "cloud_platforms_labels = cloud_platforms_table.find_all('td', class_='label')\n",
    "# print(cloud_platforms_labels)\n",
    "\n",
    "for cloud_platforms_label in cloud_platforms_labels:\n",
    "    cloud_platforms.append(cloud_platforms_label.contents[0])\n",
    "\n",
    "print(cloud_platforms)"
   ]
  },
  {
   "attachments": {},
   "cell_type": "markdown",
   "metadata": {},
   "source": [
    "## Extract web frameworks and technologies"
   ]
  },
  {
   "cell_type": "code",
   "execution_count": 6,
   "metadata": {},
   "outputs": [
    {
     "name": "stdout",
     "output_type": "stream",
     "text": [
      "['Node.js', 'React.js', 'jQuery', 'Express', 'Angular', 'Vue.js', 'ASP.NET Core', 'ASP.NET', 'Django', 'Flask', 'Next.js', 'Laravel', 'Angular.js', 'FastAPI', 'Ruby on Rails', 'Svelte', 'Blazor', 'Nuxt.js', 'Symfony', 'Gatsby', 'Drupal', 'Phoenix', 'Fastify', 'Deno', 'Play Framework']\n"
     ]
    }
   ],
   "source": [
    "web_frameworks_and_technologies = []\n",
    "\n",
    "web_frameworks_and_technologies_table = soup.find('table', id='webframew4ni7')\n",
    "# print(web_frameworks_and_technologies_table)\n",
    "\n",
    "web_frameworks_and_technologies_labels = web_frameworks_and_technologies_table.find_all('td', class_='label')\n",
    "# print(web_frameworks_and_technologies_labels)\n",
    "\n",
    "for web_frameworks_and_technologies_label in web_frameworks_and_technologies_labels:\n",
    "    web_frameworks_and_technologies.append(web_frameworks_and_technologies_label.contents[0])\n",
    "\n",
    "print(web_frameworks_and_technologies)"
   ]
  },
  {
   "attachments": {},
   "cell_type": "markdown",
   "metadata": {},
   "source": [
    "## Extract other frameworks and libraries"
   ]
  },
  {
   "cell_type": "code",
   "execution_count": 7,
   "metadata": {},
   "outputs": [
    {
     "name": "stdout",
     "output_type": "stream",
     "text": [
      "['.NET', 'NumPy', 'Pandas', 'Spring', 'TensorFlow', 'Flutter', 'Scikit-learn', 'React Native', 'Apache Kafka', 'Electron', 'Torch/PyTorch', 'Qt', 'Keras', 'Ionic', 'Xamarin', 'Apache Spark', 'Cordova', 'Hadoop', 'GTK', 'Capacitor', 'Tidyverse', 'Hugging Face Transformers', 'Uno Platform']\n"
     ]
    }
   ],
   "source": [
    "other_frameworks_and_libraries = []\n",
    "\n",
    "other_frameworks_and_libraries_table = soup.find('table', id='misc-techyxc3f')\n",
    "# print(other_frameworks_and_libraries_table)\n",
    "\n",
    "other_frameworks_and_libraries_labels = other_frameworks_and_libraries_table.find_all('td', class_='label')\n",
    "# print(other_frameworks_and_libraries_labels)\n",
    "\n",
    "for other_frameworks_and_libraries_label in other_frameworks_and_libraries_labels:\n",
    "    other_frameworks_and_libraries.append(other_frameworks_and_libraries_label.contents[0])\n",
    "\n",
    "print(other_frameworks_and_libraries)"
   ]
  },
  {
   "attachments": {},
   "cell_type": "markdown",
   "metadata": {},
   "source": [
    "## Extract other tools"
   ]
  },
  {
   "cell_type": "code",
   "execution_count": 8,
   "metadata": {},
   "outputs": [
    {
     "name": "stdout",
     "output_type": "stream",
     "text": [
      "['npm', 'Docker', 'Yarn', 'Homebrew', 'Kubernetes', 'Terraform', 'Unity 3D', 'Ansible', 'Unreal Engine', 'Puppet', 'Chef', 'Pulumi', 'Flow']\n"
     ]
    }
   ],
   "source": [
    "other_tools = []\n",
    "\n",
    "other_tools_table = soup.find('table', id='tools-techzn2jb')\n",
    "# print(other_tools_table)\n",
    "\n",
    "other_tools_labels = other_tools_table.find_all('td', class_='label')\n",
    "# print(other_tools_labels)\n",
    "\n",
    "for other_tools_label in other_tools_labels:\n",
    "    other_tools.append(other_tools_label.contents[0])\n",
    "\n",
    "print(other_tools)"
   ]
  },
  {
   "attachments": {},
   "cell_type": "markdown",
   "metadata": {},
   "source": [
    "## Export data to CSV files"
   ]
  },
  {
   "cell_type": "code",
   "execution_count": 9,
   "metadata": {},
   "outputs": [
    {
     "name": "stdout",
     "output_type": "stream",
     "text": [
      "134\n"
     ]
    }
   ],
   "source": [
    "import csv\n",
    "\n",
    "export_jobs = [\n",
    "    {\n",
    "        'headers': ['Programming, scripting, and markup language'],\n",
    "        'data_list': programming_scripting_markup_languages,\n",
    "    },\n",
    "    {\n",
    "        'headers': ['Databases'],\n",
    "        'data_list': databases,\n",
    "    },\n",
    "    {\n",
    "        'headers': ['Cloud platforms'],\n",
    "        'data_list': cloud_platforms,\n",
    "    },\n",
    "    {\n",
    "        'headers': ['Web frameworks and technologies'],\n",
    "        'data_list': web_frameworks_and_technologies,\n",
    "    },\n",
    "    {\n",
    "        'headers': ['Other frameworks and libraries'],\n",
    "        'data_list': other_frameworks_and_libraries,\n",
    "    },\n",
    "    {\n",
    "        'headers': ['Other tools'],\n",
    "        'data_list': other_tools,\n",
    "    }\n",
    "]\n",
    "\n",
    "total_skills = 0\n",
    "for export_job in export_jobs:\n",
    "    headers = export_job['headers']\n",
    "    data_list = export_job['data_list']\n",
    "    total_skills += len(data_list)\n",
    "\n",
    "    with open(f'./data/Stack_Overflow_Survey_2022/{headers[0]}.csv', encoding='UTF-8', mode='w+') as csv_file:\n",
    "        csv_writer = csv.writer(csv_file)\n",
    "        csv_writer.writerow(headers)\n",
    "\n",
    "        for data in data_list:\n",
    "            csv_writer.writerow([data])\n",
    "\n",
    "print(total_skills)"
   ]
  }
 ],
 "metadata": {
  "kernelspec": {
   "display_name": "venv",
   "language": "python",
   "name": "python3"
  },
  "language_info": {
   "codemirror_mode": {
    "name": "ipython",
    "version": 3
   },
   "file_extension": ".py",
   "mimetype": "text/x-python",
   "name": "python",
   "nbconvert_exporter": "python",
   "pygments_lexer": "ipython3",
   "version": "3.9.6"
  },
  "orig_nbformat": 4
 },
 "nbformat": 4,
 "nbformat_minor": 2
}
